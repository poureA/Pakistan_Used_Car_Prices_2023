{
 "cells": [
  {
   "cell_type": "markdown",
   "id": "ba7a94c1",
   "metadata": {},
   "source": [
    "# Pakistan Used Car Prices 2023"
   ]
  },
  {
   "cell_type": "markdown",
   "id": "d97bba64",
   "metadata": {},
   "source": [
    "A solution for : https://www.kaggle.com/datasets/talhabarkaatahmad/pakistan-used-car-prices-2023"
   ]
  },
  {
   "cell_type": "markdown",
   "id": "289e3b41",
   "metadata": {},
   "source": [
    "# Task 1"
   ]
  },
  {
   "cell_type": "markdown",
   "id": "80cafb2b",
   "metadata": {},
   "source": [
    "Preparing csv File."
   ]
  },
  {
   "cell_type": "code",
   "execution_count": 532,
   "id": "30d8933f",
   "metadata": {},
   "outputs": [],
   "source": [
    "#Importing needed modules.\n",
    "from pandas import read_csv , concat , DataFrame , get_dummies\n",
    "from pandas.plotting import scatter_matrix\n",
    "from matplotlib.pyplot import show , bar , xlabel , ylabel , title , figure , xticks\n",
    "from sklearn.impute import SimpleImputer \n",
    "from sklearn.model_selection import train_test_split\n",
    "from sklearn.preprocessing import StandardScaler , LabelEncoder\n",
    "from sklearn.ensemble import RandomForestRegressor , GradientBoostingRegressor \n",
    "from sklearn.linear_model import LinearRegression , Lasso , Ridge\n",
    "from xgboost import XGBRegressor\n",
    "from sklearn.neighbors import KNeighborsRegressor\n",
    "from sklearn.metrics import mean_absolute_error"
   ]
  },
  {
   "cell_type": "code",
   "execution_count": 533,
   "id": "1ba391c4",
   "metadata": {},
   "outputs": [],
   "source": [
    "#Instancing from SimpleImputer , StandardScaler , LabelEncoder objects\n",
    "imputer_mean = SimpleImputer()\n",
    "imputer_mf = SimpleImputer(strategy='most_frequent')\n",
    "imputer_constant = SimpleImputer(strategy='constant',fill_value='Non-imported')\n",
    "scaler = StandardScaler()\n",
    "encoder = LabelEncoder()"
   ]
  },
  {
   "cell_type": "code",
   "execution_count": 534,
   "id": "2af80fa1",
   "metadata": {},
   "outputs": [
    {
     "data": {
      "text/html": [
       "<div>\n",
       "<style scoped>\n",
       "    .dataframe tbody tr th:only-of-type {\n",
       "        vertical-align: middle;\n",
       "    }\n",
       "\n",
       "    .dataframe tbody tr th {\n",
       "        vertical-align: top;\n",
       "    }\n",
       "\n",
       "    .dataframe thead th {\n",
       "        text-align: right;\n",
       "    }\n",
       "</style>\n",
       "<table border=\"1\" class=\"dataframe\">\n",
       "  <thead>\n",
       "    <tr style=\"text-align: right;\">\n",
       "      <th></th>\n",
       "      <th>addref</th>\n",
       "      <th>city</th>\n",
       "      <th>assembly</th>\n",
       "      <th>body</th>\n",
       "      <th>make</th>\n",
       "      <th>model</th>\n",
       "      <th>year</th>\n",
       "      <th>engine</th>\n",
       "      <th>transmission</th>\n",
       "      <th>fuel</th>\n",
       "      <th>color</th>\n",
       "      <th>registered</th>\n",
       "      <th>mileage</th>\n",
       "      <th>price</th>\n",
       "    </tr>\n",
       "  </thead>\n",
       "  <tbody>\n",
       "    <tr>\n",
       "      <th>68001</th>\n",
       "      <td>7810249</td>\n",
       "      <td>Islamabad</td>\n",
       "      <td>Imported</td>\n",
       "      <td>NaN</td>\n",
       "      <td>Suzuki</td>\n",
       "      <td>Khyber</td>\n",
       "      <td>1993.0</td>\n",
       "      <td>1000.0</td>\n",
       "      <td>Manual</td>\n",
       "      <td>Petrol</td>\n",
       "      <td>White</td>\n",
       "      <td>Rawalpindi</td>\n",
       "      <td>90000</td>\n",
       "      <td>470000.0</td>\n",
       "    </tr>\n",
       "    <tr>\n",
       "      <th>54920</th>\n",
       "      <td>7849206</td>\n",
       "      <td>Faisalabad</td>\n",
       "      <td>NaN</td>\n",
       "      <td>Hatchback</td>\n",
       "      <td>Suzuki</td>\n",
       "      <td>Alto</td>\n",
       "      <td>2010.0</td>\n",
       "      <td>1000.0</td>\n",
       "      <td>Manual</td>\n",
       "      <td>Petrol</td>\n",
       "      <td>Graphite Grey</td>\n",
       "      <td>Faisalabad</td>\n",
       "      <td>125000</td>\n",
       "      <td>1020000.0</td>\n",
       "    </tr>\n",
       "    <tr>\n",
       "      <th>46562</th>\n",
       "      <td>7869178</td>\n",
       "      <td>Talagang</td>\n",
       "      <td>NaN</td>\n",
       "      <td>Single Cabin</td>\n",
       "      <td>Toyota</td>\n",
       "      <td>Hilux</td>\n",
       "      <td>2013.0</td>\n",
       "      <td>2500.0</td>\n",
       "      <td>Manual</td>\n",
       "      <td>Diesel</td>\n",
       "      <td>Super White</td>\n",
       "      <td>Islamabad</td>\n",
       "      <td>114000</td>\n",
       "      <td>4450000.0</td>\n",
       "    </tr>\n",
       "    <tr>\n",
       "      <th>16832</th>\n",
       "      <td>7926897</td>\n",
       "      <td>Islamabad</td>\n",
       "      <td>NaN</td>\n",
       "      <td>NaN</td>\n",
       "      <td>Suzuki</td>\n",
       "      <td>Bolan</td>\n",
       "      <td>2016.0</td>\n",
       "      <td>800.0</td>\n",
       "      <td>Manual</td>\n",
       "      <td>Petrol</td>\n",
       "      <td>White</td>\n",
       "      <td>Islamabad</td>\n",
       "      <td>60000</td>\n",
       "      <td>1300000.0</td>\n",
       "    </tr>\n",
       "    <tr>\n",
       "      <th>70049</th>\n",
       "      <td>7802458</td>\n",
       "      <td>Lahore</td>\n",
       "      <td>NaN</td>\n",
       "      <td>Sedan</td>\n",
       "      <td>Suzuki</td>\n",
       "      <td>Baleno</td>\n",
       "      <td>2003.0</td>\n",
       "      <td>1300.0</td>\n",
       "      <td>Manual</td>\n",
       "      <td>Petrol</td>\n",
       "      <td>White</td>\n",
       "      <td>Punjab</td>\n",
       "      <td>160000</td>\n",
       "      <td>1250000.0</td>\n",
       "    </tr>\n",
       "    <tr>\n",
       "      <th>52337</th>\n",
       "      <td>7855423</td>\n",
       "      <td>Sahiwal</td>\n",
       "      <td>NaN</td>\n",
       "      <td>Sedan</td>\n",
       "      <td>Honda</td>\n",
       "      <td>City</td>\n",
       "      <td>2015.0</td>\n",
       "      <td>1300.0</td>\n",
       "      <td>Manual</td>\n",
       "      <td>Petrol</td>\n",
       "      <td>Modern Steel Metallic</td>\n",
       "      <td>Lahore</td>\n",
       "      <td>170000</td>\n",
       "      <td>2950000.0</td>\n",
       "    </tr>\n",
       "    <tr>\n",
       "      <th>53266</th>\n",
       "      <td>7853190</td>\n",
       "      <td>Lahore</td>\n",
       "      <td>NaN</td>\n",
       "      <td>Sedan</td>\n",
       "      <td>Toyota</td>\n",
       "      <td>Corolla</td>\n",
       "      <td>2021.0</td>\n",
       "      <td>1799.0</td>\n",
       "      <td>Automatic</td>\n",
       "      <td>Petrol</td>\n",
       "      <td>Super White</td>\n",
       "      <td>Punjab</td>\n",
       "      <td>66000</td>\n",
       "      <td>6600000.0</td>\n",
       "    </tr>\n",
       "    <tr>\n",
       "      <th>5873</th>\n",
       "      <td>7938802</td>\n",
       "      <td>Sohawa</td>\n",
       "      <td>Imported</td>\n",
       "      <td>NaN</td>\n",
       "      <td>Daihatsu</td>\n",
       "      <td>Hijet</td>\n",
       "      <td>2009.0</td>\n",
       "      <td>660.0</td>\n",
       "      <td>Manual</td>\n",
       "      <td>Petrol</td>\n",
       "      <td>White</td>\n",
       "      <td>Islamabad</td>\n",
       "      <td>361178</td>\n",
       "      <td>1100000.0</td>\n",
       "    </tr>\n",
       "    <tr>\n",
       "      <th>17471</th>\n",
       "      <td>7926062</td>\n",
       "      <td>Lahore</td>\n",
       "      <td>NaN</td>\n",
       "      <td>Sedan</td>\n",
       "      <td>Toyota</td>\n",
       "      <td>Corolla</td>\n",
       "      <td>2012.0</td>\n",
       "      <td>1300.0</td>\n",
       "      <td>Manual</td>\n",
       "      <td>Petrol</td>\n",
       "      <td>Maroon</td>\n",
       "      <td>Punjab</td>\n",
       "      <td>117777</td>\n",
       "      <td>2100000.0</td>\n",
       "    </tr>\n",
       "    <tr>\n",
       "      <th>73375</th>\n",
       "      <td>7789908</td>\n",
       "      <td>Lahore</td>\n",
       "      <td>NaN</td>\n",
       "      <td>Hatchback</td>\n",
       "      <td>Suzuki</td>\n",
       "      <td>Mehran</td>\n",
       "      <td>2004.0</td>\n",
       "      <td>800.0</td>\n",
       "      <td>Manual</td>\n",
       "      <td>Petrol</td>\n",
       "      <td>Silver Metallic</td>\n",
       "      <td>Punjab</td>\n",
       "      <td>80000</td>\n",
       "      <td>600000.0</td>\n",
       "    </tr>\n",
       "  </tbody>\n",
       "</table>\n",
       "</div>"
      ],
      "text/plain": [
       "        addref        city  assembly  ...  registered mileage      price\n",
       "68001  7810249   Islamabad  Imported  ...  Rawalpindi   90000   470000.0\n",
       "54920  7849206  Faisalabad       NaN  ...  Faisalabad  125000  1020000.0\n",
       "46562  7869178    Talagang       NaN  ...   Islamabad  114000  4450000.0\n",
       "16832  7926897   Islamabad       NaN  ...   Islamabad   60000  1300000.0\n",
       "70049  7802458      Lahore       NaN  ...      Punjab  160000  1250000.0\n",
       "52337  7855423     Sahiwal       NaN  ...      Lahore  170000  2950000.0\n",
       "53266  7853190      Lahore       NaN  ...      Punjab   66000  6600000.0\n",
       "5873   7938802      Sohawa  Imported  ...   Islamabad  361178  1100000.0\n",
       "17471  7926062      Lahore       NaN  ...      Punjab  117777  2100000.0\n",
       "73375  7789908      Lahore       NaN  ...      Punjab   80000   600000.0\n",
       "\n",
       "[10 rows x 14 columns]"
      ]
     },
     "execution_count": 534,
     "metadata": {},
     "output_type": "execute_result"
    }
   ],
   "source": [
    "#Reading csv file and getting ten samples randomly .\n",
    "path = \"D:\\\\datasets\\\\pakwheels_used_cars\\\\pakwheels_used_car_data_v02.csv\"\n",
    "file = read_csv(path)\n",
    "df = file.copy()\n",
    "df.sample(10)"
   ]
  },
  {
   "cell_type": "code",
   "execution_count": 535,
   "id": "ce1ce25c",
   "metadata": {},
   "outputs": [
    {
     "name": "stdout",
     "output_type": "stream",
     "text": [
      "<class 'pandas.core.frame.DataFrame'>\n",
      "RangeIndex: 77878 entries, 0 to 77877\n",
      "Data columns (total 14 columns):\n",
      " #   Column        Non-Null Count  Dtype  \n",
      "---  ------        --------------  -----  \n",
      " 0   addref        77878 non-null  int64  \n",
      " 1   city          77878 non-null  object \n",
      " 2   assembly      24189 non-null  object \n",
      " 3   body          68974 non-null  object \n",
      " 4   make          77878 non-null  object \n",
      " 5   model         77878 non-null  object \n",
      " 6   year          73099 non-null  float64\n",
      " 7   engine        77875 non-null  float64\n",
      " 8   transmission  77878 non-null  object \n",
      " 9   fuel          76972 non-null  object \n",
      " 10  color         76398 non-null  object \n",
      " 11  registered    77878 non-null  object \n",
      " 12  mileage       77878 non-null  int64  \n",
      " 13  price         77295 non-null  float64\n",
      "dtypes: float64(3), int64(2), object(9)\n",
      "memory usage: 8.3+ MB\n"
     ]
    }
   ],
   "source": [
    "#Getting information from file.\n",
    "df.info()"
   ]
  },
  {
   "cell_type": "markdown",
   "id": "f3ac92f2",
   "metadata": {},
   "source": [
    "# Task 2"
   ]
  },
  {
   "cell_type": "markdown",
   "id": "ad625120",
   "metadata": {},
   "source": [
    "There are some columns with null datas. At first let's separate them from non-null columns."
   ]
  },
  {
   "cell_type": "code",
   "execution_count": 536,
   "id": "3e103fa4",
   "metadata": {},
   "outputs": [
    {
     "data": {
      "text/plain": [
       "addref              0\n",
       "city                0\n",
       "assembly        53689\n",
       "body             8904\n",
       "make                0\n",
       "model               0\n",
       "year             4779\n",
       "engine              3\n",
       "transmission        0\n",
       "fuel              906\n",
       "color            1480\n",
       "registered          0\n",
       "mileage             0\n",
       "price             583\n",
       "dtype: int64"
      ]
     },
     "execution_count": 536,
     "metadata": {},
     "output_type": "execute_result"
    }
   ],
   "source": [
    "df.isnull().sum()"
   ]
  },
  {
   "cell_type": "code",
   "execution_count": 537,
   "id": "b47702d4",
   "metadata": {},
   "outputs": [],
   "source": [
    "df = df.drop(['addref'],axis=1)"
   ]
  },
  {
   "cell_type": "code",
   "execution_count": 538,
   "id": "18e594ea",
   "metadata": {},
   "outputs": [],
   "source": [
    "price = DataFrame(imputer_mean.fit_transform(df.price.to_numpy().reshape(-1,1)),columns=['price'])\n",
    "df = df.drop(['price'],axis=1)\n",
    "null_cols = [col for col in df.isnull().columns if any(df.isnull()[col])]\n",
    "df_non_null = df.drop(null_cols,axis=1)\n",
    "df_null = df.drop(df_non_null.columns,axis=1)"
   ]
  },
  {
   "cell_type": "code",
   "execution_count": 539,
   "id": "293f24a7",
   "metadata": {},
   "outputs": [
    {
     "data": {
      "text/html": [
       "<div>\n",
       "<style scoped>\n",
       "    .dataframe tbody tr th:only-of-type {\n",
       "        vertical-align: middle;\n",
       "    }\n",
       "\n",
       "    .dataframe tbody tr th {\n",
       "        vertical-align: top;\n",
       "    }\n",
       "\n",
       "    .dataframe thead th {\n",
       "        text-align: right;\n",
       "    }\n",
       "</style>\n",
       "<table border=\"1\" class=\"dataframe\">\n",
       "  <thead>\n",
       "    <tr style=\"text-align: right;\">\n",
       "      <th></th>\n",
       "      <th>price</th>\n",
       "    </tr>\n",
       "  </thead>\n",
       "  <tbody>\n",
       "    <tr>\n",
       "      <th>count</th>\n",
       "      <td>7.787800e+04</td>\n",
       "    </tr>\n",
       "    <tr>\n",
       "      <th>mean</th>\n",
       "      <td>3.883232e+06</td>\n",
       "    </tr>\n",
       "    <tr>\n",
       "      <th>std</th>\n",
       "      <td>5.737881e+06</td>\n",
       "    </tr>\n",
       "    <tr>\n",
       "      <th>min</th>\n",
       "      <td>1.100000e+05</td>\n",
       "    </tr>\n",
       "    <tr>\n",
       "      <th>25%</th>\n",
       "      <td>1.450000e+06</td>\n",
       "    </tr>\n",
       "    <tr>\n",
       "      <th>50%</th>\n",
       "      <td>2.700000e+06</td>\n",
       "    </tr>\n",
       "    <tr>\n",
       "      <th>75%</th>\n",
       "      <td>4.500000e+06</td>\n",
       "    </tr>\n",
       "    <tr>\n",
       "      <th>max</th>\n",
       "      <td>5.290000e+08</td>\n",
       "    </tr>\n",
       "  </tbody>\n",
       "</table>\n",
       "</div>"
      ],
      "text/plain": [
       "              price\n",
       "count  7.787800e+04\n",
       "mean   3.883232e+06\n",
       "std    5.737881e+06\n",
       "min    1.100000e+05\n",
       "25%    1.450000e+06\n",
       "50%    2.700000e+06\n",
       "75%    4.500000e+06\n",
       "max    5.290000e+08"
      ]
     },
     "execution_count": 539,
     "metadata": {},
     "output_type": "execute_result"
    }
   ],
   "source": [
    "price.describe()"
   ]
  },
  {
   "cell_type": "code",
   "execution_count": 540,
   "id": "73226aa1",
   "metadata": {},
   "outputs": [
    {
     "data": {
      "text/html": [
       "<div>\n",
       "<style scoped>\n",
       "    .dataframe tbody tr th:only-of-type {\n",
       "        vertical-align: middle;\n",
       "    }\n",
       "\n",
       "    .dataframe tbody tr th {\n",
       "        vertical-align: top;\n",
       "    }\n",
       "\n",
       "    .dataframe thead th {\n",
       "        text-align: right;\n",
       "    }\n",
       "</style>\n",
       "<table border=\"1\" class=\"dataframe\">\n",
       "  <thead>\n",
       "    <tr style=\"text-align: right;\">\n",
       "      <th></th>\n",
       "      <th>city</th>\n",
       "      <th>make</th>\n",
       "      <th>model</th>\n",
       "      <th>transmission</th>\n",
       "      <th>registered</th>\n",
       "      <th>mileage</th>\n",
       "    </tr>\n",
       "  </thead>\n",
       "  <tbody>\n",
       "    <tr>\n",
       "      <th>0</th>\n",
       "      <td>Peshawar</td>\n",
       "      <td>Toyota</td>\n",
       "      <td>Corolla</td>\n",
       "      <td>Manual</td>\n",
       "      <td>Lahore</td>\n",
       "      <td>145000</td>\n",
       "    </tr>\n",
       "    <tr>\n",
       "      <th>1</th>\n",
       "      <td>Lahore</td>\n",
       "      <td>Honda</td>\n",
       "      <td>City</td>\n",
       "      <td>Manual</td>\n",
       "      <td>Lahore</td>\n",
       "      <td>230000</td>\n",
       "    </tr>\n",
       "    <tr>\n",
       "      <th>2</th>\n",
       "      <td>Lahore</td>\n",
       "      <td>Toyota</td>\n",
       "      <td>Yaris</td>\n",
       "      <td>Manual</td>\n",
       "      <td>Punjab</td>\n",
       "      <td>60500</td>\n",
       "    </tr>\n",
       "    <tr>\n",
       "      <th>3</th>\n",
       "      <td>Lahore</td>\n",
       "      <td>Suzuki</td>\n",
       "      <td>Swift</td>\n",
       "      <td>Manual</td>\n",
       "      <td>Islamabad</td>\n",
       "      <td>87000</td>\n",
       "    </tr>\n",
       "    <tr>\n",
       "      <th>4</th>\n",
       "      <td>Lahore</td>\n",
       "      <td>Honda</td>\n",
       "      <td>Civic</td>\n",
       "      <td>Automatic</td>\n",
       "      <td>Lahore</td>\n",
       "      <td>86000</td>\n",
       "    </tr>\n",
       "  </tbody>\n",
       "</table>\n",
       "</div>"
      ],
      "text/plain": [
       "       city    make    model transmission registered  mileage\n",
       "0  Peshawar  Toyota  Corolla       Manual     Lahore   145000\n",
       "1    Lahore   Honda     City       Manual     Lahore   230000\n",
       "2    Lahore  Toyota    Yaris       Manual     Punjab    60500\n",
       "3    Lahore  Suzuki    Swift       Manual  Islamabad    87000\n",
       "4    Lahore   Honda    Civic    Automatic     Lahore    86000"
      ]
     },
     "execution_count": 540,
     "metadata": {},
     "output_type": "execute_result"
    }
   ],
   "source": [
    "df_non_null.head()"
   ]
  },
  {
   "cell_type": "code",
   "execution_count": 541,
   "id": "faaec98e",
   "metadata": {},
   "outputs": [
    {
     "data": {
      "text/html": [
       "<div>\n",
       "<style scoped>\n",
       "    .dataframe tbody tr th:only-of-type {\n",
       "        vertical-align: middle;\n",
       "    }\n",
       "\n",
       "    .dataframe tbody tr th {\n",
       "        vertical-align: top;\n",
       "    }\n",
       "\n",
       "    .dataframe thead th {\n",
       "        text-align: right;\n",
       "    }\n",
       "</style>\n",
       "<table border=\"1\" class=\"dataframe\">\n",
       "  <thead>\n",
       "    <tr style=\"text-align: right;\">\n",
       "      <th></th>\n",
       "      <th>assembly</th>\n",
       "      <th>body</th>\n",
       "      <th>year</th>\n",
       "      <th>engine</th>\n",
       "      <th>fuel</th>\n",
       "      <th>color</th>\n",
       "    </tr>\n",
       "  </thead>\n",
       "  <tbody>\n",
       "    <tr>\n",
       "      <th>0</th>\n",
       "      <td>NaN</td>\n",
       "      <td>Sedan</td>\n",
       "      <td>2013.0</td>\n",
       "      <td>1300.0</td>\n",
       "      <td>Petrol</td>\n",
       "      <td>Silver Metallic</td>\n",
       "    </tr>\n",
       "    <tr>\n",
       "      <th>1</th>\n",
       "      <td>NaN</td>\n",
       "      <td>Sedan</td>\n",
       "      <td>2000.0</td>\n",
       "      <td>1300.0</td>\n",
       "      <td>Petrol</td>\n",
       "      <td>Blue</td>\n",
       "    </tr>\n",
       "    <tr>\n",
       "      <th>2</th>\n",
       "      <td>NaN</td>\n",
       "      <td>Sedan</td>\n",
       "      <td>2021.0</td>\n",
       "      <td>1300.0</td>\n",
       "      <td>Petrol</td>\n",
       "      <td>Super White</td>\n",
       "    </tr>\n",
       "    <tr>\n",
       "      <th>3</th>\n",
       "      <td>NaN</td>\n",
       "      <td>Hatchback</td>\n",
       "      <td>2017.0</td>\n",
       "      <td>1300.0</td>\n",
       "      <td>Petrol</td>\n",
       "      <td>Grey</td>\n",
       "    </tr>\n",
       "    <tr>\n",
       "      <th>4</th>\n",
       "      <td>NaN</td>\n",
       "      <td>Sedan</td>\n",
       "      <td>2017.0</td>\n",
       "      <td>1800.0</td>\n",
       "      <td>Petrol</td>\n",
       "      <td>Grey</td>\n",
       "    </tr>\n",
       "  </tbody>\n",
       "</table>\n",
       "</div>"
      ],
      "text/plain": [
       "  assembly       body    year  engine    fuel            color\n",
       "0      NaN      Sedan  2013.0  1300.0  Petrol  Silver Metallic\n",
       "1      NaN      Sedan  2000.0  1300.0  Petrol             Blue\n",
       "2      NaN      Sedan  2021.0  1300.0  Petrol      Super White\n",
       "3      NaN  Hatchback  2017.0  1300.0  Petrol             Grey\n",
       "4      NaN      Sedan  2017.0  1800.0  Petrol             Grey"
      ]
     },
     "execution_count": 541,
     "metadata": {},
     "output_type": "execute_result"
    }
   ],
   "source": [
    "df_null.head()"
   ]
  },
  {
   "cell_type": "markdown",
   "id": "c9027f3c",
   "metadata": {},
   "source": [
    "# Task 3"
   ]
  },
  {
   "cell_type": "markdown",
   "id": "83174eb9",
   "metadata": {},
   "source": [
    "Encoding non-null columns."
   ]
  },
  {
   "cell_type": "code",
   "execution_count": 542,
   "id": "3460fff9",
   "metadata": {},
   "outputs": [
    {
     "name": "stdout",
     "output_type": "stream",
     "text": [
      "city\n",
      "297\n",
      "make\n",
      "68\n",
      "model\n",
      "435\n",
      "transmission\n",
      "2\n",
      "registered\n",
      "121\n"
     ]
    }
   ],
   "source": [
    "for col in [i for i in df_non_null.columns if df_non_null[i].dtype == 'O'] :\n",
    "    print(col)\n",
    "    print(len(df_non_null[col].unique()))"
   ]
  },
  {
   "cell_type": "code",
   "execution_count": 543,
   "id": "c3a06998",
   "metadata": {},
   "outputs": [],
   "source": [
    "transmission = get_dummies(df_non_null.transmission)\n",
    "city = DataFrame(encoder.fit_transform(df_non_null.city),columns=['city'])\n",
    "make = DataFrame(encoder.fit_transform(df_non_null.make),columns=['make'])\n",
    "model = DataFrame(encoder.fit_transform(df_non_null.model),columns=['model'])\n",
    "registered = DataFrame(encoder.fit_transform(df_non_null.registered),columns=['registered'])"
   ]
  },
  {
   "cell_type": "code",
   "execution_count": 544,
   "id": "53a61910",
   "metadata": {},
   "outputs": [],
   "source": [
    "finall_non_null = concat([transmission,city,make,model,registered],axis=1)"
   ]
  },
  {
   "cell_type": "code",
   "execution_count": 545,
   "id": "a4a58a7f",
   "metadata": {},
   "outputs": [
    {
     "data": {
      "text/html": [
       "<div>\n",
       "<style scoped>\n",
       "    .dataframe tbody tr th:only-of-type {\n",
       "        vertical-align: middle;\n",
       "    }\n",
       "\n",
       "    .dataframe tbody tr th {\n",
       "        vertical-align: top;\n",
       "    }\n",
       "\n",
       "    .dataframe thead th {\n",
       "        text-align: right;\n",
       "    }\n",
       "</style>\n",
       "<table border=\"1\" class=\"dataframe\">\n",
       "  <thead>\n",
       "    <tr style=\"text-align: right;\">\n",
       "      <th></th>\n",
       "      <th>Automatic</th>\n",
       "      <th>Manual</th>\n",
       "      <th>city</th>\n",
       "      <th>make</th>\n",
       "      <th>model</th>\n",
       "      <th>registered</th>\n",
       "    </tr>\n",
       "  </thead>\n",
       "  <tbody>\n",
       "    <tr>\n",
       "      <th>0</th>\n",
       "      <td>0</td>\n",
       "      <td>1</td>\n",
       "      <td>214</td>\n",
       "      <td>62</td>\n",
       "      <td>121</td>\n",
       "      <td>64</td>\n",
       "    </tr>\n",
       "    <tr>\n",
       "      <th>1</th>\n",
       "      <td>0</td>\n",
       "      <td>1</td>\n",
       "      <td>162</td>\n",
       "      <td>27</td>\n",
       "      <td>109</td>\n",
       "      <td>64</td>\n",
       "    </tr>\n",
       "    <tr>\n",
       "      <th>2</th>\n",
       "      <td>0</td>\n",
       "      <td>1</td>\n",
       "      <td>162</td>\n",
       "      <td>62</td>\n",
       "      <td>421</td>\n",
       "      <td>93</td>\n",
       "    </tr>\n",
       "    <tr>\n",
       "      <th>3</th>\n",
       "      <td>0</td>\n",
       "      <td>1</td>\n",
       "      <td>162</td>\n",
       "      <td>60</td>\n",
       "      <td>365</td>\n",
       "      <td>47</td>\n",
       "    </tr>\n",
       "    <tr>\n",
       "      <th>4</th>\n",
       "      <td>1</td>\n",
       "      <td>0</td>\n",
       "      <td>162</td>\n",
       "      <td>27</td>\n",
       "      <td>110</td>\n",
       "      <td>64</td>\n",
       "    </tr>\n",
       "  </tbody>\n",
       "</table>\n",
       "</div>"
      ],
      "text/plain": [
       "   Automatic  Manual  city  make  model  registered\n",
       "0          0       1   214    62    121          64\n",
       "1          0       1   162    27    109          64\n",
       "2          0       1   162    62    421          93\n",
       "3          0       1   162    60    365          47\n",
       "4          1       0   162    27    110          64"
      ]
     },
     "execution_count": 545,
     "metadata": {},
     "output_type": "execute_result"
    }
   ],
   "source": [
    "finall_non_null.head()"
   ]
  },
  {
   "cell_type": "markdown",
   "id": "9c5049e5",
   "metadata": {},
   "source": [
    "# Task 4"
   ]
  },
  {
   "cell_type": "markdown",
   "id": "d2d52f86",
   "metadata": {},
   "source": [
    "Imputing and encoding null cells in null columns."
   ]
  },
  {
   "cell_type": "code",
   "execution_count": 546,
   "id": "7b43af34",
   "metadata": {},
   "outputs": [],
   "source": [
    "assembly = DataFrame(imputer_constant.fit_transform(df_null.assembly.to_numpy().reshape(-1,1)),columns=['assembly'])\n",
    "df_null = df_null[[col for col in df_null.columns if col != 'assembly']]\n",
    "new_df_null = DataFrame(imputer_mf.fit_transform(df_null),columns=df_null.columns)"
   ]
  },
  {
   "cell_type": "code",
   "execution_count": 547,
   "id": "aa20c96f",
   "metadata": {},
   "outputs": [
    {
     "data": {
      "text/html": [
       "<div>\n",
       "<style scoped>\n",
       "    .dataframe tbody tr th:only-of-type {\n",
       "        vertical-align: middle;\n",
       "    }\n",
       "\n",
       "    .dataframe tbody tr th {\n",
       "        vertical-align: top;\n",
       "    }\n",
       "\n",
       "    .dataframe thead th {\n",
       "        text-align: right;\n",
       "    }\n",
       "</style>\n",
       "<table border=\"1\" class=\"dataframe\">\n",
       "  <thead>\n",
       "    <tr style=\"text-align: right;\">\n",
       "      <th></th>\n",
       "      <th>assembly</th>\n",
       "      <th>body</th>\n",
       "      <th>year</th>\n",
       "      <th>engine</th>\n",
       "      <th>fuel</th>\n",
       "      <th>color</th>\n",
       "    </tr>\n",
       "  </thead>\n",
       "  <tbody>\n",
       "    <tr>\n",
       "      <th>0</th>\n",
       "      <td>Non-imported</td>\n",
       "      <td>Sedan</td>\n",
       "      <td>2013.0</td>\n",
       "      <td>1300.0</td>\n",
       "      <td>Petrol</td>\n",
       "      <td>Silver Metallic</td>\n",
       "    </tr>\n",
       "    <tr>\n",
       "      <th>1</th>\n",
       "      <td>Non-imported</td>\n",
       "      <td>Sedan</td>\n",
       "      <td>2000.0</td>\n",
       "      <td>1300.0</td>\n",
       "      <td>Petrol</td>\n",
       "      <td>Blue</td>\n",
       "    </tr>\n",
       "    <tr>\n",
       "      <th>2</th>\n",
       "      <td>Non-imported</td>\n",
       "      <td>Sedan</td>\n",
       "      <td>2021.0</td>\n",
       "      <td>1300.0</td>\n",
       "      <td>Petrol</td>\n",
       "      <td>Super White</td>\n",
       "    </tr>\n",
       "    <tr>\n",
       "      <th>3</th>\n",
       "      <td>Non-imported</td>\n",
       "      <td>Hatchback</td>\n",
       "      <td>2017.0</td>\n",
       "      <td>1300.0</td>\n",
       "      <td>Petrol</td>\n",
       "      <td>Grey</td>\n",
       "    </tr>\n",
       "    <tr>\n",
       "      <th>4</th>\n",
       "      <td>Non-imported</td>\n",
       "      <td>Sedan</td>\n",
       "      <td>2017.0</td>\n",
       "      <td>1800.0</td>\n",
       "      <td>Petrol</td>\n",
       "      <td>Grey</td>\n",
       "    </tr>\n",
       "  </tbody>\n",
       "</table>\n",
       "</div>"
      ],
      "text/plain": [
       "       assembly       body    year  engine    fuel            color\n",
       "0  Non-imported      Sedan  2013.0  1300.0  Petrol  Silver Metallic\n",
       "1  Non-imported      Sedan  2000.0  1300.0  Petrol             Blue\n",
       "2  Non-imported      Sedan  2021.0  1300.0  Petrol      Super White\n",
       "3  Non-imported  Hatchback  2017.0  1300.0  Petrol             Grey\n",
       "4  Non-imported      Sedan  2017.0  1800.0  Petrol             Grey"
      ]
     },
     "execution_count": 547,
     "metadata": {},
     "output_type": "execute_result"
    }
   ],
   "source": [
    "finall_null = concat([assembly,new_df_null],axis=1)\n",
    "finall_null.head()"
   ]
  },
  {
   "cell_type": "code",
   "execution_count": 548,
   "id": "de07d334",
   "metadata": {},
   "outputs": [
    {
     "name": "stdout",
     "output_type": "stream",
     "text": [
      "<class 'pandas.core.frame.DataFrame'>\n",
      "RangeIndex: 77878 entries, 0 to 77877\n",
      "Data columns (total 6 columns):\n",
      " #   Column    Non-Null Count  Dtype \n",
      "---  ------    --------------  ----- \n",
      " 0   assembly  77878 non-null  object\n",
      " 1   body      77878 non-null  object\n",
      " 2   year      77878 non-null  object\n",
      " 3   engine    77878 non-null  object\n",
      " 4   fuel      77878 non-null  object\n",
      " 5   color     77878 non-null  object\n",
      "dtypes: object(6)\n",
      "memory usage: 3.6+ MB\n"
     ]
    }
   ],
   "source": [
    "finall_null.info()"
   ]
  },
  {
   "cell_type": "code",
   "execution_count": 549,
   "id": "65352d86",
   "metadata": {},
   "outputs": [
    {
     "name": "stdout",
     "output_type": "stream",
     "text": [
      "assembly\n",
      "2\n",
      "body\n",
      "21\n",
      "year\n",
      "33\n",
      "engine\n",
      "229\n",
      "fuel\n",
      "3\n",
      "color\n",
      "396\n"
     ]
    }
   ],
   "source": [
    "for col in finall_null.columns :\n",
    "    print(col)\n",
    "    print(len(finall_null[col].unique()))"
   ]
  },
  {
   "cell_type": "code",
   "execution_count": 550,
   "id": "28fcbba4",
   "metadata": {},
   "outputs": [],
   "source": [
    "assembly_fuel = finall_null[['assembly','fuel']]\n",
    "year = finall_null.year.astype('int64')\n",
    "engine = finall_null.engine.astype('int64')\n",
    "encoded_body = DataFrame(encoder.fit_transform(finall_null.body),columns=['body'])\n",
    "encoded_color = DataFrame(encoder.fit_transform(finall_null.color),columns=['color'])\n",
    "encoded_assembly_fuel = get_dummies(assembly_fuel)"
   ]
  },
  {
   "cell_type": "code",
   "execution_count": 551,
   "id": "454a0126",
   "metadata": {},
   "outputs": [],
   "source": [
    "concated_finall = concat([year,engine,encoded_body,encoded_color,encoded_assembly_fuel],axis=1)"
   ]
  },
  {
   "cell_type": "code",
   "execution_count": 552,
   "id": "9d582f51",
   "metadata": {},
   "outputs": [
    {
     "name": "stdout",
     "output_type": "stream",
     "text": [
      "<class 'pandas.core.frame.DataFrame'>\n",
      "RangeIndex: 77878 entries, 0 to 77877\n",
      "Data columns (total 9 columns):\n",
      " #   Column                 Non-Null Count  Dtype\n",
      "---  ------                 --------------  -----\n",
      " 0   year                   77878 non-null  int64\n",
      " 1   engine                 77878 non-null  int64\n",
      " 2   body                   77878 non-null  int32\n",
      " 3   color                  77878 non-null  int32\n",
      " 4   assembly_Imported      77878 non-null  uint8\n",
      " 5   assembly_Non-imported  77878 non-null  uint8\n",
      " 6   fuel_Diesel            77878 non-null  uint8\n",
      " 7   fuel_Hybrid            77878 non-null  uint8\n",
      " 8   fuel_Petrol            77878 non-null  uint8\n",
      "dtypes: int32(2), int64(2), uint8(5)\n",
      "memory usage: 2.2 MB\n"
     ]
    }
   ],
   "source": [
    "concated_finall.info()"
   ]
  },
  {
   "cell_type": "markdown",
   "id": "386e6fd5",
   "metadata": {},
   "source": [
    "# Task 5"
   ]
  },
  {
   "cell_type": "markdown",
   "id": "30423c4b",
   "metadata": {},
   "source": [
    "Finalizing data frame. "
   ]
  },
  {
   "cell_type": "code",
   "execution_count": 553,
   "id": "7a505f11",
   "metadata": {},
   "outputs": [],
   "source": [
    "Finall_DF = concat([finall_non_null,concated_finall],axis=1)"
   ]
  },
  {
   "cell_type": "code",
   "execution_count": 554,
   "id": "f7d93b64",
   "metadata": {},
   "outputs": [
    {
     "data": {
      "text/html": [
       "<div>\n",
       "<style scoped>\n",
       "    .dataframe tbody tr th:only-of-type {\n",
       "        vertical-align: middle;\n",
       "    }\n",
       "\n",
       "    .dataframe tbody tr th {\n",
       "        vertical-align: top;\n",
       "    }\n",
       "\n",
       "    .dataframe thead th {\n",
       "        text-align: right;\n",
       "    }\n",
       "</style>\n",
       "<table border=\"1\" class=\"dataframe\">\n",
       "  <thead>\n",
       "    <tr style=\"text-align: right;\">\n",
       "      <th></th>\n",
       "      <th>Automatic</th>\n",
       "      <th>Manual</th>\n",
       "      <th>city</th>\n",
       "      <th>make</th>\n",
       "      <th>model</th>\n",
       "      <th>registered</th>\n",
       "      <th>year</th>\n",
       "      <th>engine</th>\n",
       "      <th>body</th>\n",
       "      <th>color</th>\n",
       "      <th>assembly_Imported</th>\n",
       "      <th>assembly_Non-imported</th>\n",
       "      <th>fuel_Diesel</th>\n",
       "      <th>fuel_Hybrid</th>\n",
       "      <th>fuel_Petrol</th>\n",
       "    </tr>\n",
       "  </thead>\n",
       "  <tbody>\n",
       "    <tr>\n",
       "      <th>0</th>\n",
       "      <td>0</td>\n",
       "      <td>1</td>\n",
       "      <td>214</td>\n",
       "      <td>62</td>\n",
       "      <td>121</td>\n",
       "      <td>64</td>\n",
       "      <td>2013</td>\n",
       "      <td>1300</td>\n",
       "      <td>16</td>\n",
       "      <td>316</td>\n",
       "      <td>0</td>\n",
       "      <td>1</td>\n",
       "      <td>0</td>\n",
       "      <td>0</td>\n",
       "      <td>1</td>\n",
       "    </tr>\n",
       "    <tr>\n",
       "      <th>1</th>\n",
       "      <td>0</td>\n",
       "      <td>1</td>\n",
       "      <td>162</td>\n",
       "      <td>27</td>\n",
       "      <td>109</td>\n",
       "      <td>64</td>\n",
       "      <td>2000</td>\n",
       "      <td>1300</td>\n",
       "      <td>16</td>\n",
       "      <td>44</td>\n",
       "      <td>0</td>\n",
       "      <td>1</td>\n",
       "      <td>0</td>\n",
       "      <td>0</td>\n",
       "      <td>1</td>\n",
       "    </tr>\n",
       "    <tr>\n",
       "      <th>2</th>\n",
       "      <td>0</td>\n",
       "      <td>1</td>\n",
       "      <td>162</td>\n",
       "      <td>62</td>\n",
       "      <td>421</td>\n",
       "      <td>93</td>\n",
       "      <td>2021</td>\n",
       "      <td>1300</td>\n",
       "      <td>16</td>\n",
       "      <td>345</td>\n",
       "      <td>0</td>\n",
       "      <td>1</td>\n",
       "      <td>0</td>\n",
       "      <td>0</td>\n",
       "      <td>1</td>\n",
       "    </tr>\n",
       "    <tr>\n",
       "      <th>3</th>\n",
       "      <td>0</td>\n",
       "      <td>1</td>\n",
       "      <td>162</td>\n",
       "      <td>60</td>\n",
       "      <td>365</td>\n",
       "      <td>47</td>\n",
       "      <td>2017</td>\n",
       "      <td>1300</td>\n",
       "      <td>7</td>\n",
       "      <td>167</td>\n",
       "      <td>0</td>\n",
       "      <td>1</td>\n",
       "      <td>0</td>\n",
       "      <td>0</td>\n",
       "      <td>1</td>\n",
       "    </tr>\n",
       "    <tr>\n",
       "      <th>4</th>\n",
       "      <td>1</td>\n",
       "      <td>0</td>\n",
       "      <td>162</td>\n",
       "      <td>27</td>\n",
       "      <td>110</td>\n",
       "      <td>64</td>\n",
       "      <td>2017</td>\n",
       "      <td>1800</td>\n",
       "      <td>16</td>\n",
       "      <td>167</td>\n",
       "      <td>0</td>\n",
       "      <td>1</td>\n",
       "      <td>0</td>\n",
       "      <td>0</td>\n",
       "      <td>1</td>\n",
       "    </tr>\n",
       "  </tbody>\n",
       "</table>\n",
       "</div>"
      ],
      "text/plain": [
       "   Automatic  Manual  city  ...  fuel_Diesel  fuel_Hybrid  fuel_Petrol\n",
       "0          0       1   214  ...            0            0            1\n",
       "1          0       1   162  ...            0            0            1\n",
       "2          0       1   162  ...            0            0            1\n",
       "3          0       1   162  ...            0            0            1\n",
       "4          1       0   162  ...            0            0            1\n",
       "\n",
       "[5 rows x 15 columns]"
      ]
     },
     "execution_count": 554,
     "metadata": {},
     "output_type": "execute_result"
    }
   ],
   "source": [
    "Finall_DF.head()"
   ]
  },
  {
   "cell_type": "code",
   "execution_count": 555,
   "id": "b841c507",
   "metadata": {},
   "outputs": [
    {
     "name": "stdout",
     "output_type": "stream",
     "text": [
      "<class 'pandas.core.frame.DataFrame'>\n",
      "RangeIndex: 77878 entries, 0 to 77877\n",
      "Data columns (total 15 columns):\n",
      " #   Column                 Non-Null Count  Dtype\n",
      "---  ------                 --------------  -----\n",
      " 0   Automatic              77878 non-null  uint8\n",
      " 1   Manual                 77878 non-null  uint8\n",
      " 2   city                   77878 non-null  int32\n",
      " 3   make                   77878 non-null  int32\n",
      " 4   model                  77878 non-null  int32\n",
      " 5   registered             77878 non-null  int32\n",
      " 6   year                   77878 non-null  int64\n",
      " 7   engine                 77878 non-null  int64\n",
      " 8   body                   77878 non-null  int32\n",
      " 9   color                  77878 non-null  int32\n",
      " 10  assembly_Imported      77878 non-null  uint8\n",
      " 11  assembly_Non-imported  77878 non-null  uint8\n",
      " 12  fuel_Diesel            77878 non-null  uint8\n",
      " 13  fuel_Hybrid            77878 non-null  uint8\n",
      " 14  fuel_Petrol            77878 non-null  uint8\n",
      "dtypes: int32(6), int64(2), uint8(7)\n",
      "memory usage: 3.5 MB\n"
     ]
    }
   ],
   "source": [
    "Finall_DF.info()"
   ]
  },
  {
   "cell_type": "code",
   "execution_count": 556,
   "id": "ab1f8050",
   "metadata": {},
   "outputs": [
    {
     "data": {
      "text/html": [
       "<div>\n",
       "<style scoped>\n",
       "    .dataframe tbody tr th:only-of-type {\n",
       "        vertical-align: middle;\n",
       "    }\n",
       "\n",
       "    .dataframe tbody tr th {\n",
       "        vertical-align: top;\n",
       "    }\n",
       "\n",
       "    .dataframe thead th {\n",
       "        text-align: right;\n",
       "    }\n",
       "</style>\n",
       "<table border=\"1\" class=\"dataframe\">\n",
       "  <thead>\n",
       "    <tr style=\"text-align: right;\">\n",
       "      <th></th>\n",
       "      <th>Automatic</th>\n",
       "      <th>Manual</th>\n",
       "      <th>city</th>\n",
       "      <th>make</th>\n",
       "      <th>model</th>\n",
       "      <th>registered</th>\n",
       "      <th>year</th>\n",
       "      <th>engine</th>\n",
       "      <th>body</th>\n",
       "      <th>color</th>\n",
       "      <th>assembly_Imported</th>\n",
       "      <th>assembly_Non-imported</th>\n",
       "      <th>fuel_Diesel</th>\n",
       "      <th>fuel_Hybrid</th>\n",
       "      <th>fuel_Petrol</th>\n",
       "    </tr>\n",
       "  </thead>\n",
       "  <tbody>\n",
       "    <tr>\n",
       "      <th>count</th>\n",
       "      <td>7.787800e+04</td>\n",
       "      <td>7.787800e+04</td>\n",
       "      <td>7.787800e+04</td>\n",
       "      <td>7.787800e+04</td>\n",
       "      <td>7.787800e+04</td>\n",
       "      <td>7.787800e+04</td>\n",
       "      <td>7.787800e+04</td>\n",
       "      <td>7.787800e+04</td>\n",
       "      <td>7.787800e+04</td>\n",
       "      <td>7.787800e+04</td>\n",
       "      <td>7.787800e+04</td>\n",
       "      <td>7.787800e+04</td>\n",
       "      <td>7.787800e+04</td>\n",
       "      <td>7.787800e+04</td>\n",
       "      <td>7.787800e+04</td>\n",
       "    </tr>\n",
       "    <tr>\n",
       "      <th>mean</th>\n",
       "      <td>8.739618e-14</td>\n",
       "      <td>-8.739666e-14</td>\n",
       "      <td>2.139857e-15</td>\n",
       "      <td>-4.719228e-15</td>\n",
       "      <td>-4.093889e-16</td>\n",
       "      <td>-1.978047e-15</td>\n",
       "      <td>2.743992e-15</td>\n",
       "      <td>-6.243170e-15</td>\n",
       "      <td>1.630299e-15</td>\n",
       "      <td>9.530315e-16</td>\n",
       "      <td>-1.872698e-15</td>\n",
       "      <td>1.872698e-15</td>\n",
       "      <td>3.361862e-15</td>\n",
       "      <td>-1.705478e-14</td>\n",
       "      <td>2.027192e-14</td>\n",
       "    </tr>\n",
       "    <tr>\n",
       "      <th>std</th>\n",
       "      <td>1.000006e+00</td>\n",
       "      <td>1.000006e+00</td>\n",
       "      <td>1.000006e+00</td>\n",
       "      <td>1.000006e+00</td>\n",
       "      <td>1.000006e+00</td>\n",
       "      <td>1.000006e+00</td>\n",
       "      <td>1.000006e+00</td>\n",
       "      <td>1.000006e+00</td>\n",
       "      <td>1.000006e+00</td>\n",
       "      <td>1.000006e+00</td>\n",
       "      <td>1.000006e+00</td>\n",
       "      <td>1.000006e+00</td>\n",
       "      <td>1.000006e+00</td>\n",
       "      <td>1.000006e+00</td>\n",
       "      <td>1.000006e+00</td>\n",
       "    </tr>\n",
       "    <tr>\n",
       "      <th>min</th>\n",
       "      <td>-1.103539e+00</td>\n",
       "      <td>-9.061754e-01</td>\n",
       "      <td>-2.445264e+00</td>\n",
       "      <td>-2.781546e+00</td>\n",
       "      <td>-1.662488e+00</td>\n",
       "      <td>-2.880338e+00</td>\n",
       "      <td>-3.091034e+00</td>\n",
       "      <td>-1.994582e+00</td>\n",
       "      <td>-2.644832e+00</td>\n",
       "      <td>-1.976332e+00</td>\n",
       "      <td>-6.712222e-01</td>\n",
       "      <td>-1.489820e+00</td>\n",
       "      <td>-2.155271e-01</td>\n",
       "      <td>-1.964911e-01</td>\n",
       "      <td>-3.355651e+00</td>\n",
       "    </tr>\n",
       "    <tr>\n",
       "      <th>25%</th>\n",
       "      <td>-1.103539e+00</td>\n",
       "      <td>-9.061754e-01</td>\n",
       "      <td>-7.514588e-01</td>\n",
       "      <td>-1.220911e+00</td>\n",
       "      <td>-6.615228e-01</td>\n",
       "      <td>-9.871023e-01</td>\n",
       "      <td>-7.046502e-01</td>\n",
       "      <td>-5.792785e-01</td>\n",
       "      <td>-1.127678e+00</td>\n",
       "      <td>-7.298383e-01</td>\n",
       "      <td>-6.712222e-01</td>\n",
       "      <td>-1.489820e+00</td>\n",
       "      <td>-2.155271e-01</td>\n",
       "      <td>-1.964911e-01</td>\n",
       "      <td>2.980048e-01</td>\n",
       "    </tr>\n",
       "    <tr>\n",
       "      <th>50%</th>\n",
       "      <td>9.061754e-01</td>\n",
       "      <td>-9.061754e-01</td>\n",
       "      <td>-1.101150e-01</td>\n",
       "      <td>6.865310e-01</td>\n",
       "      <td>-4.522301e-01</td>\n",
       "      <td>-3.023149e-01</td>\n",
       "      <td>2.233879e-01</td>\n",
       "      <td>-1.534097e-01</td>\n",
       "      <td>8.229484e-01</td>\n",
       "      <td>4.699118e-01</td>\n",
       "      <td>-6.712222e-01</td>\n",
       "      <td>6.712222e-01</td>\n",
       "      <td>-2.155271e-01</td>\n",
       "      <td>-1.964911e-01</td>\n",
       "      <td>2.980048e-01</td>\n",
       "    </tr>\n",
       "    <tr>\n",
       "      <th>75%</th>\n",
       "      <td>9.061754e-01</td>\n",
       "      <td>1.103539e+00</td>\n",
       "      <td>6.298970e-01</td>\n",
       "      <td>8.021336e-01</td>\n",
       "      <td>5.760341e-01</td>\n",
       "      <td>8.658520e-01</td>\n",
       "      <td>8.862722e-01</td>\n",
       "      <td>2.724591e-01</td>\n",
       "      <td>8.229484e-01</td>\n",
       "      <td>9.061845e-01</td>\n",
       "      <td>1.489820e+00</td>\n",
       "      <td>6.712222e-01</td>\n",
       "      <td>-2.155271e-01</td>\n",
       "      <td>-1.964911e-01</td>\n",
       "      <td>2.980048e-01</td>\n",
       "    </tr>\n",
       "    <tr>\n",
       "      <th>max</th>\n",
       "      <td>9.061754e-01</td>\n",
       "      <td>1.103539e+00</td>\n",
       "      <td>2.422371e+00</td>\n",
       "      <td>1.091140e+00</td>\n",
       "      <td>2.286774e+00</td>\n",
       "      <td>1.953456e+00</td>\n",
       "      <td>1.151426e+00</td>\n",
       "      <td>1.929460e+01</td>\n",
       "      <td>1.689894e+00</td>\n",
       "      <td>1.100949e+00</td>\n",
       "      <td>1.489820e+00</td>\n",
       "      <td>6.712222e-01</td>\n",
       "      <td>4.639787e+00</td>\n",
       "      <td>5.089289e+00</td>\n",
       "      <td>2.980048e-01</td>\n",
       "    </tr>\n",
       "  </tbody>\n",
       "</table>\n",
       "</div>"
      ],
      "text/plain": [
       "          Automatic        Manual  ...   fuel_Hybrid   fuel_Petrol\n",
       "count  7.787800e+04  7.787800e+04  ...  7.787800e+04  7.787800e+04\n",
       "mean   8.739618e-14 -8.739666e-14  ... -1.705478e-14  2.027192e-14\n",
       "std    1.000006e+00  1.000006e+00  ...  1.000006e+00  1.000006e+00\n",
       "min   -1.103539e+00 -9.061754e-01  ... -1.964911e-01 -3.355651e+00\n",
       "25%   -1.103539e+00 -9.061754e-01  ... -1.964911e-01  2.980048e-01\n",
       "50%    9.061754e-01 -9.061754e-01  ... -1.964911e-01  2.980048e-01\n",
       "75%    9.061754e-01  1.103539e+00  ... -1.964911e-01  2.980048e-01\n",
       "max    9.061754e-01  1.103539e+00  ...  5.089289e+00  2.980048e-01\n",
       "\n",
       "[8 rows x 15 columns]"
      ]
     },
     "execution_count": 556,
     "metadata": {},
     "output_type": "execute_result"
    }
   ],
   "source": [
    "ready_df = DataFrame(scaler.fit_transform(Finall_DF),columns=Finall_DF.columns)\n",
    "ready_df.describe()"
   ]
  },
  {
   "cell_type": "markdown",
   "id": "148b2844",
   "metadata": {},
   "source": [
    "# Task 6"
   ]
  },
  {
   "cell_type": "markdown",
   "id": "e40a04cf",
   "metadata": {},
   "source": [
    "Having some intuition on datas."
   ]
  },
  {
   "cell_type": "code",
   "execution_count": 557,
   "id": "12c4a4a8",
   "metadata": {},
   "outputs": [
    {
     "name": "stderr",
     "output_type": "stream",
     "text": [
      "C:\\Users\\USER\\AppData\\Local\\Temp\\ipykernel_15860\\1782792372.py:2: SettingWithCopyWarning: \n",
      "A value is trying to be set on a copy of a slice from a DataFrame.\n",
      "Try using .loc[row_indexer,col_indexer] = value instead\n",
      "\n",
      "See the caveats in the documentation: https://pandas.pydata.org/pandas-docs/stable/user_guide/indexing.html#returning-a-view-versus-a-copy\n",
      "  temp['label'] = price\n"
     ]
    },
    {
     "data": {
      "text/plain": [
       "label     1.000000\n",
       "engine    0.455646\n",
       "year      0.270010\n",
       "Name: label, dtype: float64"
      ]
     },
     "execution_count": 557,
     "metadata": {},
     "output_type": "execute_result"
    }
   ],
   "source": [
    "temp = ready_df[['year','engine']]\n",
    "temp['label'] = price\n",
    "Corr = temp.corr()\n",
    "Corr['label'].sort_values(ascending=False)"
   ]
  },
  {
   "cell_type": "code",
   "execution_count": 558,
   "id": "d0d1cac4",
   "metadata": {},
   "outputs": [
    {
     "data": {
      "image/png": "[encoded data removed]",
      "text/plain": [
       "<Figure size 1000x1000 with 9 Axes>"
      ]
     },
     "metadata": {},
     "output_type": "display_data"
    }
   ],
   "source": [
    "scatter_matrix(temp,figsize=(10,10))\n",
    "show()"
   ]
  },
  {
   "cell_type": "markdown",
   "id": "2602af51",
   "metadata": {},
   "source": [
    "# Final task"
   ]
  },
  {
   "cell_type": "markdown",
   "id": "9f68f0af",
   "metadata": {},
   "source": [
    "Data training and choosing best model by MAE comparing."
   ]
  },
  {
   "cell_type": "code",
   "execution_count": 559,
   "id": "38440263",
   "metadata": {},
   "outputs": [
    {
     "name": "stdout",
     "output_type": "stream",
     "text": [
      "Size of train set : 66196\n",
      "Size of test set : 11682\n"
     ]
    }
   ],
   "source": [
    "xtr , xts , ytr , yts = train_test_split(ready_df,price,test_size=0.15,random_state=42)\n",
    "print(f'Size of train set : {len(xtr)}\\nSize of test set : {len(xts)}')"
   ]
  },
  {
   "cell_type": "code",
   "execution_count": 560,
   "id": "ceb1c8d2",
   "metadata": {},
   "outputs": [
    {
     "name": "stderr",
     "output_type": "stream",
     "text": [
      "C:\\Users\\USER\\AppData\\Local\\Temp\\ipykernel_15860\\93910103.py:12: DataConversionWarning: A column-vector y was passed when a 1d array was expected. Please change the shape of y to (n_samples,), for example using ravel().\n",
      "  teacher.fit(xtr,ytr)\n",
      "C:\\Users\\USER\\anaconda3\\lib\\site-packages\\sklearn\\ensemble\\_gb.py:494: DataConversionWarning: A column-vector y was passed when a 1d array was expected. Please change the shape of y to (n_samples, ), for example using ravel().\n",
      "  y = column_or_1d(y, warn=True)\n"
     ]
    },
    {
     "name": "stdout",
     "output_type": "stream",
     "text": [
      "RandomForestRegressor won with mae : 539191.516060696\n"
     ]
    }
   ],
   "source": [
    "models = [RandomForestRegressor,\n",
    "          GradientBoostingRegressor,\n",
    "          LinearRegression,\n",
    "          Lasso,\n",
    "          Ridge,\n",
    "          XGBRegressor,\n",
    "          KNeighborsRegressor]\n",
    "results = list()\n",
    "results_tr = list()\n",
    "for model in models :\n",
    "    teacher = model()\n",
    "    teacher.fit(xtr,ytr)\n",
    "    preds_tr = teacher.predict(xtr)\n",
    "    mae = mean_absolute_error(ytr,preds_tr)\n",
    "    results_tr.append(mae)\n",
    "    preds = teacher.predict(xts)\n",
    "    mae = mean_absolute_error(yts,preds)\n",
    "    results.append(mae)\n",
    "for i in range(len(results)) :\n",
    "    if results[i] == min(results) :\n",
    "        m = models[i]()\n",
    "        Class = str(m.__class__).split('.')[-1][:-2]\n",
    "        print(f'{Class} won with mae : {results[i]}')"
   ]
  },
  {
   "cell_type": "code",
   "execution_count": 561,
   "id": "67c703e2",
   "metadata": {},
   "outputs": [
    {
     "data": {
      "image/png": "[encoded data removed]",
      "text/plain": [
       "<Figure size 1500x500 with 1 Axes>"
      ]
     },
     "metadata": {},
     "output_type": "display_data"
    },
    {
     "data": {
      "image/png": "[encoded data removed]",
      "text/plain": [
       "<Figure size 1500x500 with 1 Axes>"
      ]
     },
     "metadata": {},
     "output_type": "display_data"
    }
   ],
   "source": [
    "models_name = list()\n",
    "for m in models :\n",
    "    alg = m()\n",
    "    val = str(alg.__class__).split('.')[-1][:-2]\n",
    "    models_name.append(val)\n",
    "figure(figsize=(15,5))\n",
    "bar(models_name,results)\n",
    "ylabel('MAE')\n",
    "xlabel('Models')\n",
    "title('Different results on test set by different models')\n",
    "xticks(rotation=45)\n",
    "show()\n",
    "figure(figsize=(15,5))\n",
    "bar(models_name,results_tr)\n",
    "ylabel('MAE')\n",
    "xlabel('Models')\n",
    "title('Different results on train set by different models')\n",
    "xticks(rotation=45)\n",
    "show()"
   ]
  },
  {
   "cell_type": "markdown",
   "id": "44485459",
   "metadata": {},
   "source": [
    "# End"
   ]
  }
 ],
 "metadata": {
  "kernelspec": {
   "display_name": "Python 3 (ipykernel)",
   "language": "python",
   "name": "python3"
  },
  "language_info": {
   "codemirror_mode": {
    "name": "ipython",
    "version": 3
   },
   "file_extension": ".py",
   "mimetype": "text/x-python",
   "name": "python",
   "nbconvert_exporter": "python",
   "pygments_lexer": "ipython3",
   "version": "3.9.13"
  }
 },
 "nbformat": 4,
 "nbformat_minor": 5
}
